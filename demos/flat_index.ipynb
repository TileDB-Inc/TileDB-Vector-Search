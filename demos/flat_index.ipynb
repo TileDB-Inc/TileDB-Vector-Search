{
 "cells": [
  {
   "cell_type": "markdown",
   "id": "86f80a8b",
   "metadata": {},
   "source": [
    "# Ingestion API"
   ]
  },
  {
   "cell_type": "code",
   "execution_count": null,
   "id": "c666f7d6",
   "metadata": {},
   "outputs": [],
   "source": [
    "import os\n",
    "import pytest\n",
    "\n",
    "from tiledb.vector_search.ingestion import ingest\n",
    "\n",
    "\n",
    "config = {\"vfs.s3.aws_access_key_id\": os.getenv(\"AWS_ACCESS_KEY_ID\"),\n",
    "          \"vfs.s3.aws_secret_access_key\": os.getenv(\"AWS_SECRET_ACCESS_KEY\")}\n",
    "\n",
    "million = 1000000\n",
    "ingest(array_uri=\"s3://tiledb-nikos/vector-search/test-ingestion-1\",\n",
    "   source_uri=\"s3://tiledb-nikos/vector-search/datasets/base.1B.u8bin\",\n",
    "   source_type=\"U8BIN\",\n",
    "   size=100 * million,\n",
    "   training_sample_size=1 * million,\n",
    "   config=config,\n",
    "   verbose=True)"
   ]
  },
  {
   "cell_type": "markdown",
   "id": "94e9d599",
   "metadata": {},
   "source": [
    "# Search API (flat)"
   ]
  },
  {
   "cell_type": "code",
   "execution_count": 1,
   "id": "924ae04b",
   "metadata": {},
   "outputs": [],
   "source": [
    "import tiledb\n",
    "import tiledb.vector_search as vs\n",
    "import numpy as np\n",
    "\n",
    "\n",
    "#db_uri = \"s3://tiledb-andrew/sift/sift_base\"\n",
    "#ground_truth_uri = \"s3://tiledb-andrew/sift/sift_groundtruth\"\n",
    "\n",
    "db_uri = \"~/work/proj/vector-search/datasets/sift-andrew/sift_base\"\n",
    "ground_truth_uri = \"~/work/proj/vector-search/datasets/sift-andrew/sift_groundtruth\"\n",
    "query_uri = \"~/work/proj/vector-search/datasets/sift-andrew/sift_query\"\n",
    "\n",
    "n_vectors = 10"
   ]
  },
  {
   "cell_type": "code",
   "execution_count": 2,
   "id": "243cc65f",
   "metadata": {},
   "outputs": [
    {
     "name": "stdout",
     "output_type": "stream",
     "text": [
      "# [ read matrix ~/work/proj/vector-search/datasets/sift-andrew/sift_query ]: 6 ms\n"
     ]
    }
   ],
   "source": [
    "# load target query vectors\n",
    "query_vectors = vs.load_as_array(query_uri)[:,:n_vectors]"
   ]
  },
  {
   "cell_type": "code",
   "execution_count": 3,
   "id": "f2fa7f37",
   "metadata": {},
   "outputs": [
    {
     "name": "stdout",
     "output_type": "stream",
     "text": [
      "<class 'numpy.ndarray'>\n",
      "(128, 10)\n",
      "[[ 1. 40. 28. ...  3.  1.  0.]\n",
      " [ 3. 25.  4. ...  1. 12. 11.]\n",
      " [11. 11.  3. ...  0.  4. 77.]\n",
      " ...\n",
      " [42.  3.  2. ... 25.  6. 53.]\n",
      " [48. 19. 54. ... 51. 17. 33.]\n",
      " [11. 13. 47. ... 15. 50.  2.]]\n"
     ]
    }
   ],
   "source": [
    "print(type(query_vectors))\n",
    "print(query_vectors.shape)\n",
    "print(query_vectors)"
   ]
  },
  {
   "cell_type": "code",
   "execution_count": 4,
   "id": "10b7938d",
   "metadata": {},
   "outputs": [
    {
     "name": "stdout",
     "output_type": "stream",
     "text": [
      "# [ read matrix ~/work/proj/vector-search/datasets/sift-andrew/sift_base ]: 185 ms\n"
     ]
    }
   ],
   "source": [
    "# load database\n",
    "index = vs.FlatIndex(db_uri)"
   ]
  },
  {
   "cell_type": "code",
   "execution_count": 7,
   "id": "cbfeb550",
   "metadata": {},
   "outputs": [
    {
     "name": "stdout",
     "output_type": "stream",
     "text": [
      "# [ Total time vq_query_heap ]: 744 ms\n"
     ]
    }
   ],
   "source": [
    "# run query against the query_vectors array with these parameters\n",
    "result = index.query(query_vectors, k=10)"
   ]
  },
  {
   "cell_type": "code",
   "execution_count": 8,
   "id": "7044f04f",
   "metadata": {},
   "outputs": [
    {
     "name": "stdout",
     "output_type": "stream",
     "text": [
      "[[932085 413247 669835 970797 340871 187470 402219 906750 376328 178811]\n",
      " [934876 413071 408764 125539 748397  67875 982379 618842 325865 177646]\n",
      " [561813 706838 408462  48044 748193 220473 652078 807599 323160 181997]\n",
      " [708177 880592 408855 191115 175336 460733 880346 569178 376277 181605]\n",
      " [706771 249062 551661 889039 716433 896005  59540 107468 323464 821938]\n",
      " [695756 400194 861882 546470 112586  27746 511412 207868 724549 807785]\n",
      " [435345 942339 406273 123985 107281 943689 595673 476215 176970 716433]\n",
      " [701258 880462 406324 546496 416604 669622 703786 762217 695175 358802]\n",
      " [455537 987636 551743 207768 371420 947299 982409 762237 803977 803100]\n",
      " [872728 941776 861530 831905 368246 515025 596714   5447 181435 866737]]\n"
     ]
    }
   ],
   "source": [
    "print(result)"
   ]
  },
  {
   "cell_type": "code",
   "execution_count": 13,
   "id": "f750afeb",
   "metadata": {},
   "outputs": [],
   "source": [
    "# load the ground truth array:\n",
    "# this contains the vector IDs of the top neighbors for each vector in\n",
    "# query_vectors\n",
    "\n",
    "with tiledb.open(ground_truth_uri) as A:\n",
    "    ground_truth = A[:10,:10]['a']"
   ]
  },
  {
   "cell_type": "code",
   "execution_count": 14,
   "id": "246d410c",
   "metadata": {},
   "outputs": [
    {
     "name": "stdout",
     "output_type": "stream",
     "text": [
      "[[932085 413247 669835 970797 340871 187470 402219 906750 376328 178811]\n",
      " [934876 413071 408764 125539 748397 220473 982379 618842 325865 177646]\n",
      " [561813 706838 408462  48044 748193  67875 652078 807599 323160 181997]\n",
      " [708177 880592 408855 191115 175336 460733 880346 569178 376277 181605]\n",
      " [706771 249062 551661 889039 716433 896005  59540 107468 323464 821938]\n",
      " [695756 400194 861882 546470 112586  27746 511412 207868 724549 807785]\n",
      " [435345 942339 406273 123985 107281 943689 595673 476215 176970 716433]\n",
      " [701258 880462 406324 546496 416604 669622 703786 762217 695175 358802]\n",
      " [455537 987636 551743 207768 371420 947299 982409 762237 803977 803100]\n",
      " [872728 941776 861530 831905 368246 515025 596714   5447 181435 866737]]\n"
     ]
    }
   ],
   "source": [
    "print(ground_truth)"
   ]
  },
  {
   "cell_type": "code",
   "execution_count": 11,
   "id": "bd94ce06",
   "metadata": {},
   "outputs": [
    {
     "data": {
      "text/plain": [
       "()"
      ]
     },
     "execution_count": 11,
     "metadata": {},
     "output_type": "execute_result"
    }
   ],
   "source": [
    "np.array(index).shape"
   ]
  },
  {
   "cell_type": "code",
   "execution_count": 12,
   "id": "71d7638d",
   "metadata": {},
   "outputs": [
    {
     "name": "stdout",
     "output_type": "stream",
     "text": [
      "ArraySchema(\n",
      "  domain=Domain(*[\n",
      "    Dim(name='rows', domain=(0, 127), tile=128, dtype='int32'),\n",
      "    Dim(name='cols', domain=(0, 999999), tile=10000, dtype='int32'),\n",
      "  ]),\n",
      "  attrs=[\n",
      "    Attr(name='a', dtype='float32', var=False, nullable=False),\n",
      "  ],\n",
      "  cell_order='col-major',\n",
      "  tile_order='col-major',\n",
      "  capacity=10000,\n",
      "  sparse=False,\n",
      ")\n",
      "\n"
     ]
    }
   ],
   "source": [
    "with tiledb.open(\"~/work/proj/vector-search/datasets/sift-andrew/sift_base\") as A:\n",
    "                 print(A.schema)"
   ]
  },
  {
   "cell_type": "code",
   "execution_count": null,
   "id": "2adb02f1",
   "metadata": {},
   "outputs": [],
   "source": []
  }
 ],
 "metadata": {
  "kernelspec": {
   "display_name": "py310",
   "language": "python",
   "name": "py310"
  },
  "language_info": {
   "codemirror_mode": {
    "name": "ipython",
    "version": 3
   },
   "file_extension": ".py",
   "mimetype": "text/x-python",
   "name": "python",
   "nbconvert_exporter": "python",
   "pygments_lexer": "ipython3",
   "version": "3.10.8"
  }
 },
 "nbformat": 4,
 "nbformat_minor": 5
}
