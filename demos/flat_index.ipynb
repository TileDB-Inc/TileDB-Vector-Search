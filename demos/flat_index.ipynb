{
 "cells": [
  {
   "cell_type": "code",
   "execution_count": 1,
   "id": "924ae04b",
   "metadata": {},
   "outputs": [],
   "source": [
    "import tiledb\n",
    "import tiledb.vector_search as vs\n",
    "import numpy as np\n",
    "\n",
    "\n",
    "#db_uri = \"s3://tiledb-andrew/sift/sift_base\"\n",
    "#ground_truth_uri = \"s3://tiledb-andrew/sift/sift_groundtruth\"\n",
    "\n",
    "db_uri = \"~/work/proj/vector-search/datasets/sift-andrew/sift_base\"\n",
    "ground_truth_uri = \"~/work/proj/vector-search/datasets/sift-andrew/sift_groundtruth\"\n",
    "query_uri = \"~/work/proj/vector-search/datasets/sift-andrew/sift_query\"\n",
    "\n",
    "n_vectors = 10"
   ]
  },
  {
   "cell_type": "code",
   "execution_count": 6,
   "id": "243cc65f",
   "metadata": {},
   "outputs": [
    {
     "name": "stdout",
     "output_type": "stream",
     "text": [
      "# [ read matrix ~/work/proj/vector-search/datasets/sift-andrew/sift_query ]: 6 ms\n",
      "(128, 10)\n",
      "[[ 1. 40. 28. ...  3.  1.  0.]\n",
      " [ 3. 25.  4. ...  1. 12. 11.]\n",
      " [11. 11.  3. ...  0.  4. 77.]\n",
      " ...\n",
      " [42.  3.  2. ... 25.  6. 53.]\n",
      " [48. 19. 54. ... 51. 17. 33.]\n",
      " [11. 13. 47. ... 15. 50.  2.]]\n"
     ]
    }
   ],
   "source": [
    "# load target query vectors\n",
    "query_vectors = vs.load_as_array(query_uri)[:,:n_vectors]"
   ]
  },
  {
   "cell_type": "code",
   "execution_count": 7,
   "id": "58239e6d",
   "metadata": {},
   "outputs": [
    {
     "name": "stdout",
     "output_type": "stream",
     "text": [
      "<class 'numpy.ndarray'>\n",
      "(128, 10)\n",
      "[[ 1. 40. 28. ...  3.  1.  0.]\n",
      " [ 3. 25.  4. ...  1. 12. 11.]\n",
      " [11. 11.  3. ...  0.  4. 77.]\n",
      " ...\n",
      " [42.  3.  2. ... 25.  6. 53.]\n",
      " [48. 19. 54. ... 51. 17. 33.]\n",
      " [11. 13. 47. ... 15. 50.  2.]]\n"
     ]
    }
   ],
   "source": [
    "print(type(query_vectors))\n",
    "print(query_vectors.shape)\n",
    "print(query_vectors)"
   ]
  },
  {
   "cell_type": "code",
   "execution_count": null,
   "id": "7409fc26",
   "metadata": {},
   "outputs": [],
   "source": [
    "# load database\n",
    "index = vs.FlatIndex(db_uri)"
   ]
  },
  {
   "cell_type": "code",
   "execution_count": 8,
   "id": "df92fd88",
   "metadata": {},
   "outputs": [
    {
     "name": "stdout",
     "output_type": "stream",
     "text": [
      "# [ Total time vq_query_heap ]: 688 ms\n",
      "[[932085 413247 669835 970797 340871 187470 402219 906750 376328 178811]\n",
      " [934876 413071 408764 125539 748397  67875 982379 618842 325865 177646]\n",
      " [561813 706838 408462  48044 748193 220473 652078 807599 323160 181997]\n",
      " [708177 880592 408855 191115 175336 460733 880346 569178 376277 181605]\n",
      " [706771 249062 551661 889039 716433 896005  59540 107468 323464 821938]\n",
      " [695756 400194 861882 546470 112586  27746 511412 207868 724549 807785]\n",
      " [435345 942339 406273 123985 107281 943689 595673 476215 176970 716433]\n",
      " [701258 880462 406324 546496 416604 669622 703786 762217 695175 358802]\n",
      " [455537 987636 551743 207768 371420 947299 982409 762237 803977 803100]\n",
      " [872728 941776 861530 831905 368246 515025 596714   5447 181435 866737]]\n"
     ]
    }
   ],
   "source": [
    "# run query against the query_vectors array with these parameters\n",
    "result = index.query(query_vectors, k=10, nqueries=10)\n",
    "\n",
    "print(result)"
   ]
  },
  {
   "cell_type": "code",
   "execution_count": 9,
   "id": "f750afeb",
   "metadata": {},
   "outputs": [],
   "source": [
    "# load the ground truth array:\n",
    "# this contains the vector IDs of the top neighbors for each vector in\n",
    "# query_vectors\n",
    "\n",
    "with tiledb.open(ground_truth_uri) as A:\n",
    "    ground_truth = A[:10,:10]['a']"
   ]
  },
  {
   "cell_type": "code",
   "execution_count": 10,
   "id": "246d410c",
   "metadata": {},
   "outputs": [
    {
     "name": "stdout",
     "output_type": "stream",
     "text": [
      "[[932085 413247 669835 970797 340871 187470 402219 906750 376328 178811]\n",
      " [934876 413071 408764 125539 748397 220473 982379 618842 325865 177646]\n",
      " [561813 706838 408462  48044 748193  67875 652078 807599 323160 181997]\n",
      " [708177 880592 408855 191115 175336 460733 880346 569178 376277 181605]\n",
      " [706771 249062 551661 889039 716433 896005  59540 107468 323464 821938]\n",
      " [695756 400194 861882 546470 112586  27746 511412 207868 724549 807785]\n",
      " [435345 942339 406273 123985 107281 943689 595673 476215 176970 716433]\n",
      " [701258 880462 406324 546496 416604 669622 703786 762217 695175 358802]\n",
      " [455537 987636 551743 207768 371420 947299 982409 762237 803977 803100]\n",
      " [872728 941776 861530 831905 368246 515025 596714   5447 181435 866737]]\n"
     ]
    }
   ],
   "source": [
    "print(ground_truth)"
   ]
  },
  {
   "cell_type": "code",
   "execution_count": null,
   "id": "bd94ce06",
   "metadata": {},
   "outputs": [],
   "source": []
  }
 ],
 "metadata": {
  "kernelspec": {
   "display_name": "py310",
   "language": "python",
   "name": "py310"
  },
  "language_info": {
   "codemirror_mode": {
    "name": "ipython",
    "version": 3
   },
   "file_extension": ".py",
   "mimetype": "text/x-python",
   "name": "python",
   "nbconvert_exporter": "python",
   "pygments_lexer": "ipython3",
   "version": "3.10.8"
  }
 },
 "nbformat": 4,
 "nbformat_minor": 5
}
