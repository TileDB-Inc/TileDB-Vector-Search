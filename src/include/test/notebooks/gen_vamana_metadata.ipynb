{
 "cells": [
  {
   "cell_type": "markdown",
   "id": "ebf9cfb6-ac45-4301-9434-c5bde72e9e9c",
   "metadata": {},
   "source": [
    "## Create TileDB group for TileDB-Vector-Search vamana index. Populate only metadata"
   ]
  },
  {
   "cell_type": "markdown",
   "id": "b988568c-f56a-4497-930a-da6e5d768c2d",
   "metadata": {},
   "source": [
    "### Structure of TileDB group holding the index\n",
    "\n",
    "* constituent arrays\n",
    "  * `feature_vectors`\n",
    "  * `adjacency_scores`\n",
    "  * `adjacency_ids`\n",
    "  * `adjacency_row_index`\n",
    "  * `medoids` (Anticipating ivf_vamana)\n",
    "* metadata\n",
    "  * base (for any TileDB-Vector-Search index group)\n",
    "    * `dataset_type`\n",
    "    * `storage_version`\n",
    "    * `dtype`\n",
    "    * `feature_type`\n",
    "    * `id_type`\n",
    "    * `base_sizes`\n",
    "    * `ingestion_timestamps`\n",
    "    * `temp_size`\n",
    "    * `dimension`\n",
    "    * `feature_datatype`\n",
    "    * `id_datatype`\n",
    "  * vamana specific\n",
    "    * `index_type`\n",
    "    * `adjacency_scores_type`\n",
    "    * `adjacency_row_index_type`\n",
    "    * `num_edges_history`\n",
    "    * `adjacency_scores_datatype`\n",
    "    * `adjacency_row_index_datatype`"
   ]
  },
  {
   "cell_type": "code",
   "execution_count": null,
   "id": "92f94500-9abc-48f8-b226-ef1d2db2056c",
   "metadata": {},
   "outputs": [],
   "source": [
    "import tiledb\n",
    "import numpy as np\n",
    "import tempfile\n",
    "import json\n",
    "import os\n",
    "import shutil"
   ]
  },
  {
   "cell_type": "markdown",
   "id": "2c613f9e-1adc-4bf2-89af-1463fd89627c",
   "metadata": {},
   "source": [
    "### Initialize metadata"
   ]
  },
  {
   "cell_type": "code",
   "execution_count": null,
   "id": "78a27276-df6c-4e8c-ba88-794accfaac7e",
   "metadata": {},
   "outputs": [],
   "source": [
    "dataset_type = 'vector_search'\n",
    "storage_version = '0.3'\n",
    "dtype = 'float32'\n",
    "feature_type = 'float32'\n",
    "id_type = 'uint64'\n",
    "base_sizes = json.dumps([0, 10000])\n",
    "ingestion_timestamps = json.dumps([0,1704946748930])\n",
    "temp_size = np.uint64(0)\n",
    "dimension = np.uint32(128)\n",
    "feature_datatype = np.uint32(2) # float32\n",
    "id_datatype = np.uint32(10) # uint64\n",
    "\n",
    "index_type = 'Vamana'\n",
    "adjacency_scores_type = 'float32'\n",
    "adjacency_row_index_type = 'uint64'\n",
    "num_edges_history = json.dumps([0, 40000])\n",
    "adjacency_scores_datatype = np.uint32(2)\n",
    "adjacency_row_index_datatype = np.uint32(10)"
   ]
  },
  {
   "cell_type": "markdown",
   "id": "b0bc43d3-2e59-4529-a203-fa01e316ce0a",
   "metadata": {},
   "source": [
    "### Define paths to test group"
   ]
  },
  {
   "cell_type": "code",
   "execution_count": null,
   "id": "213c8ee7-0829-4867-9275-3825ab9f7891",
   "metadata": {},
   "outputs": [],
   "source": [
    "test_data_root = '/Users/lums/TileDB/TileDB-Vector-Search-complete-index-vamana/external/test_data/nano/vamana'\n",
    "test_index_name_metadata = test_data_root + \"/\" + 'vamana_test_index_metadata'\n",
    "test_index_name = test_data_root + \"/\" + 'vamana_test_index'\n",
    "print(f\"Temporary index group: {test_index_name}\")"
   ]
  },
  {
   "cell_type": "markdown",
   "id": "ebf5734e-5c42-42ca-9b4d-710276dd0a8f",
   "metadata": {},
   "source": [
    "#### Create TileDB group"
   ]
  },
  {
   "cell_type": "code",
   "execution_count": null,
   "id": "39732e60-0cd6-4353-a54d-6bed64e4179c",
   "metadata": {},
   "outputs": [],
   "source": [
    "def open_group_for_test_write(name):\n",
    "    # Delete the group if it exist\n",
    "    if os.path.exists(name):\n",
    "        # Delete the directory\n",
    "        shutil.rmtree(name)\n",
    "\n",
    "    tiledb.Group.create(name)\n",
    "    return tiledb.Group(name, \"w\")\n",
    "\n",
    "def open_group_for_test_read(name):\n",
    "    return tiledb.Group(name, \"r\")\n",
    "\n",
    "def open_group_for_test(name, rw):\n",
    "    if (rw == \"r\"):\n",
    "        return open_group_for_test_read(name)\n",
    "    elif (rw == \"w\"):\n",
    "        return open_group_for_test_write(name)\n",
    "    else:\n",
    "        return None"
   ]
  },
  {
   "cell_type": "markdown",
   "id": "5c46dbfe-d586-40ce-9722-78bf7f03be85",
   "metadata": {},
   "source": [
    "### Populate metadata"
   ]
  },
  {
   "cell_type": "code",
   "execution_count": null,
   "id": "efcdbb5c-d9ca-4262-aeed-309ac3c01b71",
   "metadata": {},
   "outputs": [],
   "source": [
    "def populate_metadata(vamana_index):\n",
    "    vamana_index.meta['dataset_type'] = dataset_type\n",
    "    vamana_index.meta['storage_version'] = storage_version\n",
    "    vamana_index.meta['dtype'] = dtype\n",
    "    vamana_index.meta['feature_type'] = feature_type\n",
    "    vamana_index.meta['id_type'] = id_type\n",
    "    vamana_index.meta['base_sizes'] = base_sizes\n",
    "    vamana_index.meta['ingestion_timestamps'] = ingestion_timestamps\n",
    "    vamana_index.meta['temp_size'] = temp_size\n",
    "    vamana_index.meta['dimension'] = dimension\n",
    "    vamana_index.meta['feature_datatype'] = feature_datatype\n",
    "    vamana_index.meta['id_datatype'] = id_datatype\n",
    "\n",
    "    vamana_index.meta['index_type'] = index_type\n",
    "    vamana_index.meta['adjacency_scores_type'] = adjacency_scores_type\n",
    "    vamana_index.meta['adjacency_row_index_type'] = adjacency_row_index_type\n",
    "    vamana_index.meta['num_edges_history'] = num_edges_history\n",
    "    vamana_index.meta['adjacency_scores_datatype'] = adjacency_scores_datatype\n",
    "    vamana_index.meta['adjacency_row_index_datatype'] = adjacency_row_index_datatype"
   ]
  },
  {
   "cell_type": "code",
   "execution_count": null,
   "id": "65d80374-ef96-4373-b6fd-6e324b05874f",
   "metadata": {
    "editable": true,
    "slideshow": {
     "slide_type": ""
    },
    "tags": []
   },
   "outputs": [],
   "source": [
    "### Create arrays in the group"
   ]
  },
  {
   "cell_type": "code",
   "execution_count": null,
   "id": "51734977-62cd-4cfa-8696-bcc7d775f164",
   "metadata": {},
   "outputs": [],
   "source": [
    "# Create an array and add as a member to the group\n",
    "def add_array_to_group(vamana_index, array_name, data_in):\n",
    "\n",
    "    flags = data_in.flags\n",
    "\n",
    "    if flags.c_contiguous:\n",
    "        data = data_in\n",
    "    elif flags.f_continuous:\n",
    "        data = data_in.transpose()\n",
    "    else:\n",
    "        raise ValueError(\"Invalid orientation -- this should never happen\")\n",
    "\n",
    "    \n",
    "    if (data.ndim == 2):\n",
    "         dim = np.int32(data.shape[0])\n",
    "         num_v = np.int32(data.shape[1])\n",
    "         domain = tiledb.Domain(tiledb.Dim(name=\"rows\", domain=(0, dim-1), tile=dim, dtype=np.int32),\n",
    "                  tiledb.Dim(name=\"cols\", domain=(0, num_v-1), tile=num_v, dtype=np.int32))\n",
    "    else:\n",
    "         dim = np.int32(data.shape[0])\n",
    "         domain = tiledb.Domain(tiledb.Dim(name=\"rows\", domain=(0, dim-1), tile=dim, dtype=np.int32))\n",
    "        \n",
    "    values = tiledb.Attr(\"values\", dtype=data.dtype)\n",
    "\n",
    "    # Do we need to specify orders if array is fortran order?\n",
    "    # schema = tiledb.ArraySchema(domain=domain, attrs=(values,))\n",
    "    schema = tiledb.ArraySchema(domain=domain, attrs=(values,), cell_order='col-major', tile_order='col-major')\n",
    "\n",
    "    array_path = test_index_name + \"/\" + array_name\n",
    "    if os.path.exists(array_path):\n",
    "        shutil.rmtree(array_path)\n",
    "    tiledb.Array.create(array_path, schema)\n",
    "    \n",
    "    vamana_index.add(array_name, name=array_name, relative=True)\n",
    "\n",
    "    with tiledb.DenseArray(array_path, mode='w') as A:\n",
    "        A[:] = data\n",
    "        verify_array(array_name, data)\n",
    "\n",
    "def verify_array(verify_array_name, verify_data):\n",
    "    verify_array_path = test_index_name + \"/+/\" + verify_array_name\n",
    "    return\n",
    "    with tiledb.DenseArray(verify_array_path, mode='r') as A:\n",
    "        written_data = A[:][\"values\"]\n",
    "        if (np.linalg.norm(verify_data != written_data)):\n",
    "            print(f\"verifying add_array_to_group failed for {verify_array_path}\")"
   ]
  },
  {
   "cell_type": "markdown",
   "id": "678f91f2-b71d-4a51-93e4-e549e6f1554b",
   "metadata": {},
   "source": [
    "### Write just the metadata for the group"
   ]
  },
  {
   "cell_type": "code",
   "execution_count": null,
   "id": "79717e57-ad89-441d-94e1-7c63beaaaf92",
   "metadata": {},
   "outputs": [],
   "source": [
    "vamana_test_index_metadata = open_group_for_test(test_index_name_metadata, \"w\")\n",
    "populate_metadata(vamana_test_index_metadata)\n",
    "vamana_test_index_metadata.close()"
   ]
  },
  {
   "cell_type": "markdown",
   "id": "54169144-3801-4d61-a00a-4c9a42d49157",
   "metadata": {},
   "source": [
    "### Reopen group"
   ]
  },
  {
   "cell_type": "code",
   "execution_count": null,
   "id": "4a019991-df57-450f-a73a-73b41bd21b53",
   "metadata": {},
   "outputs": [],
   "source": [
    "verify_index = tiledb.Group(test_index_name_metadata, \"r\")"
   ]
  },
  {
   "cell_type": "markdown",
   "id": "a2247bdd-321d-48f9-b188-941892c2e420",
   "metadata": {},
   "source": [
    "#### For now just dump the metadata for visual inspection -- @todo Compare values, types, etc"
   ]
  },
  {
   "cell_type": "markdown",
   "id": "4fba5611-cc7f-4976-9ad2-18aa277a546c",
   "metadata": {},
   "source": [
    "# verify_index.meta.dump()"
   ]
  },
  {
   "cell_type": "code",
   "execution_count": null,
   "id": "2e1fa688-e31a-4256-b460-e193ac7b3829",
   "metadata": {},
   "outputs": [],
   "source": [
    "verify_index.close()"
   ]
  },
  {
   "cell_type": "markdown",
   "id": "49c1ea4e-e817-46af-a668-4f211d1df027",
   "metadata": {},
   "source": [
    "## Test group"
   ]
  },
  {
   "cell_type": "markdown",
   "id": "3449db9e-f819-4a60-85e4-c42d339789e3",
   "metadata": {},
   "source": [
    "### Create arrays"
   ]
  },
  {
   "cell_type": "code",
   "execution_count": null,
   "id": "6fd735f0-a66c-4714-92b9-028d3edd4790",
   "metadata": {},
   "outputs": [],
   "source": [
    "num_vectors = np.uint32(231)\n",
    "\n",
    "row_numbers = np.arange(dimension * num_vectors, dtype=np.float32).reshape(dimension, num_vectors)\n",
    "column_numbers = np.arange(dimension * num_vectors, dtype=np.float32).reshape(num_vectors,dimension)\n",
    "feature_vectors = row_numbers + column_numbers.transpose()\n",
    "\n",
    "adjacency_scores = np.arange(num_vectors*4, dtype=np.float32) ** 2\n",
    "adjacency_ids = np.arange(num_vectors*4, dtype=np.uint64) % num_vectors\n",
    "adjacency_row_index = np.arange(num_vectors+1, dtype = np.uint64) * 4\n",
    "# medoids = ...\n"
   ]
  },
  {
   "cell_type": "code",
   "execution_count": null,
   "id": "e51ace61-b9fb-405f-b23a-3eae6b810e89",
   "metadata": {},
   "outputs": [],
   "source": [
    "vamana_test_index = open_group_for_test(test_index_name, \"w\")\n",
    "if (not vamana_test_index.isopen):\n",
    "    raise IOError(f\"{test_index_name} is not open\")"
   ]
  },
  {
   "cell_type": "code",
   "execution_count": null,
   "id": "d9e7632b-bdd7-438e-89d5-62ab697ab3a1",
   "metadata": {},
   "outputs": [],
   "source": [
    "populate_metadata(vamana_test_index)"
   ]
  },
  {
   "cell_type": "code",
   "execution_count": null,
   "id": "ce53c65c-e372-4c6e-95ca-c60c5b7aa9fc",
   "metadata": {},
   "outputs": [],
   "source": [
    "# Vamana specific\n",
    "add_array_to_group(vamana_test_index, 'feature_vectors', feature_vectors)\n",
    "verify_array('feature_vectors', feature_vectors)\n",
    "\n",
    "add_array_to_group(vamana_test_index, 'adjacency_scores', adjacency_scores)\n",
    "verify_array('adjacency_scores', adjacency_scores)\n",
    "\n",
    "add_array_to_group(vamana_test_index, 'adjacency_ids', adjacency_ids)\n",
    "verify_array('adjacency_ids', adjacency_ids)\n",
    "\n",
    "add_array_to_group(vamana_test_index, 'adjacency_row_index', adjacency_row_index)\n",
    "verify_array('adjacency_row_index', adjacency_row_index)"
   ]
  },
  {
   "cell_type": "code",
   "execution_count": null,
   "id": "4ce51474-b87b-4c9b-becf-0e0afce7692f",
   "metadata": {},
   "outputs": [],
   "source": [
    "vamana_test_index.close()"
   ]
  }
 ],
 "metadata": {
  "kernelspec": {
   "display_name": "Python 3 (ipykernel)",
   "language": "python",
   "name": "python3"
  },
  "language_info": {
   "codemirror_mode": {
    "name": "ipython",
    "version": 3
   },
   "file_extension": ".py",
   "mimetype": "text/x-python",
   "name": "python",
   "nbconvert_exporter": "python",
   "pygments_lexer": "ipython3",
   "version": "3.11.7"
  }
 },
 "nbformat": 4,
 "nbformat_minor": 5
}
