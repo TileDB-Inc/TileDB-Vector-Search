{
 "cells": [
  {
   "cell_type": "markdown",
   "id": "ebf9cfb6-ac45-4301-9434-c5bde72e9e9c",
   "metadata": {},
   "source": [
    "## Create TileDB group for TileDB-Vector-Search vamana index. Populate only metadata"
   ]
  },
  {
   "cell_type": "markdown",
   "id": "b988568c-f56a-4497-930a-da6e5d768c2d",
   "metadata": {},
   "source": [
    "### Structure of TileDB group holding the index\n",
    "\n",
    "* constituent arrays\n",
    "  * `feature_vectors`\n",
    "  * `adjacency_scores`\n",
    "  * `adjacency_ids`\n",
    "  * `adjacency_row_index`\n",
    "* metadata\n",
    "  * base (for any TileDB-Vector-Search index group)\n",
    "    * `dataset_type`\n",
    "    * `storage_version`\n",
    "    * `dtype`\n",
    "    * `feature_type`\n",
    "    * `id_type`\n",
    "    * `base_sizes`\n",
    "    * `ingestion_timestamps`\n",
    "    * `temp_size`\n",
    "    * `dimension`\n",
    "    * `feature_datatype`\n",
    "    * `id_datatype`\n",
    "  * vamana specific\n",
    "    * `index_type`\n",
    "    * `adjacency_scores_type`\n",
    "    * `adjacency_row_index_type`\n",
    "    * `num_edges_history`\n",
    "    * `adjacency_scores_datatype`\n",
    "    * `adjacency_row_index_datatype`"
   ]
  },
  {
   "cell_type": "code",
   "execution_count": null,
   "id": "92f94500-9abc-48f8-b226-ef1d2db2056c",
   "metadata": {},
   "outputs": [],
   "source": [
    "import tiledb\n",
    "import numpy as np\n",
    "import tempfile\n",
    "import json\n",
    "import os\n",
    "import shutil"
   ]
  },
  {
   "cell_type": "markdown",
   "id": "b0bc43d3-2e59-4529-a203-fa01e316ce0a",
   "metadata": {},
   "source": [
    "### Define paths to test group"
   ]
  },
  {
   "cell_type": "code",
   "execution_count": null,
   "id": "213c8ee7-0829-4867-9275-3825ab9f7891",
   "metadata": {},
   "outputs": [],
   "source": [
    "test_data_root = '/Users/lums/TileDB/TileDB-Vector-Search-complete-index-vamana/external/test_data/nano/vamana'\n",
    "test_index_name = test_data_root + \"/\" + 'vamana_test_index_meta_data'\n",
    "print(f\"Temporary index group: {test_index_name}\")"
   ]
  },
  {
   "cell_type": "markdown",
   "id": "ebf5734e-5c42-42ca-9b4d-710276dd0a8f",
   "metadata": {},
   "source": [
    "#### Create TileDB group"
   ]
  },
  {
   "cell_type": "code",
   "execution_count": null,
   "id": "39732e60-0cd6-4353-a54d-6bed64e4179c",
   "metadata": {},
   "outputs": [],
   "source": [
    "# Delete the group if it exist\n",
    "if os.path.exists(test_index_name):\n",
    "    # Delete the directory\n",
    "    shutil.rmtree(test_index_name)\n",
    "\n",
    "tiledb.Group.create(test_index_name)\n",
    "vamana_index = tiledb.Group(test_index_name, \"w\")"
   ]
  },
  {
   "cell_type": "markdown",
   "id": "2c613f9e-1adc-4bf2-89af-1463fd89627c",
   "metadata": {},
   "source": [
    "### Initialize metadata"
   ]
  },
  {
   "cell_type": "code",
   "execution_count": null,
   "id": "78a27276-df6c-4e8c-ba88-794accfaac7e",
   "metadata": {},
   "outputs": [],
   "source": [
    "dataset_type = 'vector_search'\n",
    "storage_version = '0.3'\n",
    "dtype = 'float32'\n",
    "feature_type = 'float32'\n",
    "id_type = 'uint64'\n",
    "base_sizes = json.dumps([0, 10000])\n",
    "ingestion_timestamps = json.dumps([0,1704946748930])\n",
    "temp_size = np.uint64(0)\n",
    "dimension = np.uint32(128)\n",
    "feature_datatype = np.uint32(2) # float32\n",
    "id_datatype = np.uint32(10) # uint64\n",
    "\n",
    "index_type = 'Vamana'\n",
    "adjacency_scores_type = 'float32'\n",
    "adjacency_row_index_type = 'uint64'\n",
    "num_edges_history = json.dumps([0, 40000])\n",
    "adjacency_scores_datatype = np.uint32(2)\n",
    "adjacency_row_index_datatype = np.uint32(10)"
   ]
  },
  {
   "cell_type": "markdown",
   "id": "5c46dbfe-d586-40ce-9722-78bf7f03be85",
   "metadata": {},
   "source": [
    "### Populate metadata"
   ]
  },
  {
   "cell_type": "code",
   "execution_count": null,
   "id": "efcdbb5c-d9ca-4262-aeed-309ac3c01b71",
   "metadata": {},
   "outputs": [],
   "source": [
    "vamana_index.meta['dataset_type'] = dataset_type\n",
    "vamana_index.meta['storage_version'] = storage_version\n",
    "vamana_index.meta['dtype'] = dtype\n",
    "vamana_index.meta['feature_type'] = feature_type\n",
    "vamana_index.meta['id_type'] = id_type\n",
    "vamana_index.meta['base_sizes'] = base_sizes\n",
    "vamana_index.meta['ingestion_timestamps'] = ingestion_timestamps\n",
    "vamana_index.meta['temp_size'] = temp_size\n",
    "vamana_index.meta['dimension'] = dimension\n",
    "vamana_index.meta['feature_datatype'] = feature_datatype\n",
    "vamana_index.meta['id_datatype'] = id_datatype\n",
    "\n",
    "vamana_index.meta['index_type'] = index_type\n",
    "vamana_index.meta['adjacency_scores_type'] = adjacency_scores_type\n",
    "vamana_index.meta['adjacency_row_index_type'] = adjacency_row_index_type\n",
    "vamana_index.meta['num_edges_history'] = num_edges_history\n",
    "vamana_index.meta['adjacency_scores_datatype'] = adjacency_scores_datatype\n",
    "vamana_index.meta['adjacency_row_index_datatype'] = adjacency_row_index_datatype"
   ]
  },
  {
   "cell_type": "markdown",
   "id": "678f91f2-b71d-4a51-93e4-e549e6f1554b",
   "metadata": {},
   "source": [
    "### Close group"
   ]
  },
  {
   "cell_type": "code",
   "execution_count": null,
   "id": "79717e57-ad89-441d-94e1-7c63beaaaf92",
   "metadata": {},
   "outputs": [],
   "source": [
    "vamana_index.close()"
   ]
  },
  {
   "cell_type": "markdown",
   "id": "54169144-3801-4d61-a00a-4c9a42d49157",
   "metadata": {},
   "source": [
    "### Reopen group"
   ]
  },
  {
   "cell_type": "code",
   "execution_count": null,
   "id": "4a019991-df57-450f-a73a-73b41bd21b53",
   "metadata": {},
   "outputs": [],
   "source": [
    "verify_index = tiledb.Group(test_index_name, \"r\")"
   ]
  },
  {
   "cell_type": "markdown",
   "id": "a2247bdd-321d-48f9-b188-941892c2e420",
   "metadata": {},
   "source": [
    "### For now just dump the metadata for visual inspection"
   ]
  },
  {
   "cell_type": "code",
   "execution_count": null,
   "id": "684a73d2-0dfe-4b2a-9cf8-b737698ada3b",
   "metadata": {},
   "outputs": [],
   "source": [
    "verify_index.meta.dump()"
   ]
  },
  {
   "cell_type": "code",
   "execution_count": null,
   "id": "e51ace61-b9fb-405f-b23a-3eae6b810e89",
   "metadata": {},
   "outputs": [],
   "source": []
  }
 ],
 "metadata": {
  "kernelspec": {
   "display_name": "Python 3 (ipykernel)",
   "language": "python",
   "name": "python3"
  },
  "language_info": {
   "codemirror_mode": {
    "name": "ipython",
    "version": 3
   },
   "file_extension": ".py",
   "mimetype": "text/x-python",
   "name": "python",
   "nbconvert_exporter": "python",
   "pygments_lexer": "ipython3",
   "version": "3.11.7"
  }
 },
 "nbformat": 4,
 "nbformat_minor": 5
}
