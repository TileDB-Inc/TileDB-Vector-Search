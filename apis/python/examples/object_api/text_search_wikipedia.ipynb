{
 "cells": [
  {
   "cell_type": "markdown",
   "metadata": {},
   "source": [
    "# Text search for Wikipedia\n",
    "\n",
    "## Setup"
   ]
  },
  {
   "cell_type": "code",
   "execution_count": 1,
   "metadata": {},
   "outputs": [],
   "source": [
    "import warnings\n",
    "warnings.filterwarnings(\"ignore\")\n",
    "import os\n",
    "os.environ[\"TOKENIZERS_PARALLELISM\"]=\"true\"\n",
    "import tiledb\n",
    "import numpy as np\n",
    "from tiledb.vector_search.object_api import object_index\n",
    "from tiledb.vector_search.embeddings import SentenceTransformersEmbedding\n",
    "from tiledb.vector_search.object_readers import TileDB1DArrayReader\n",
    "\n",
    "dataset = \"wikipedia\"\n",
    "base_uri = f\"/tmp/{dataset}_demo\"\n",
    "wikipedia_uri = f\"{base_uri}/wikipedia_simple\"\n",
    "index_uri = f\"{base_uri}/wikipedia_index\"\n",
    "vfs = tiledb.VFS()\n",
    "if vfs.is_dir(base_uri):\n",
    "    vfs.remove_dir(base_uri)\n",
    "vfs.create_dir(base_uri)"
   ]
  },
  {
   "cell_type": "markdown",
   "metadata": {},
   "source": [
    "## Save data to TileDB\n",
    "\n",
    "Download and save wikipedia simple in a TileDB array"
   ]
  },
  {
   "cell_type": "code",
   "execution_count": 2,
   "metadata": {},
   "outputs": [],
   "source": [
    "from datasets import load_dataset\n",
    "import numpy as np\n",
    "import tiledb\n",
    "\n",
    "wiki_simple = load_dataset(\"wikipedia\", \"20220301.simple\")\n",
    "if vfs.is_dir(wikipedia_uri):\n",
    "    vfs.remove_dir(wikipedia_uri)\n",
    "\n",
    "array_schema = tiledb.ArraySchema(\n",
    "    domain = tiledb.Domain([\n",
    "        tiledb.Dim(name=\"external_id\", dtype=np.uint64, domain=(0, np.iinfo(np.uint64).max-100000), tile=1000)\n",
    "    ]),\n",
    "    attrs=[\n",
    "        tiledb.Attr(name=\"url\", dtype=str),\n",
    "        tiledb.Attr(name=\"title\", dtype=str),\n",
    "        tiledb.Attr(name=\"text\", dtype=str),\n",
    "    ],\n",
    "    sparse=True\n",
    ")\n",
    "tiledb.Array.create(wikipedia_uri, array_schema)\n",
    "size = wiki_simple[\"train\"].num_rows\n",
    "external_ids = np.zeros(size).astype(np.uint64)\n",
    "urls = np.empty(size, dtype=\"O\")\n",
    "titles = np.empty(size, dtype=\"O\")\n",
    "texts = np.empty(size, dtype=\"O\")\n",
    "for i in range(size):\n",
    "    external_ids[i] = i\n",
    "    urls[i] = str(wiki_simple[\"train\"][i][\"url\"])\n",
    "    titles[i] = str(wiki_simple[\"train\"][i][\"title\"])\n",
    "    texts[i] = str(wiki_simple[\"train\"][i][\"text\"])\n",
    "\n",
    "with tiledb.open(wikipedia_uri, mode='w') as A:\n",
    "    A[external_ids] = {\"url\": urls, \"title\": titles, \"text\": texts}"
   ]
  },
  {
   "cell_type": "markdown",
   "metadata": {},
   "source": [
    "## Create vector search index"
   ]
  },
  {
   "cell_type": "code",
   "execution_count": 3,
   "metadata": {},
   "outputs": [],
   "source": [
    "reader = TileDB1DArrayReader(uri=wikipedia_uri, metadata_uri=wikipedia_uri)\n",
    "embedding = SentenceTransformersEmbedding(model_name_or_path='BAAI/bge-small-en-v1.5', dimensions=384)\n",
    "\n",
    "if vfs.is_dir(index_uri):\n",
    "    vfs.remove_dir(index_uri)\n",
    "\n",
    "index = object_index.create(\n",
    "    uri=index_uri,\n",
    "    index_type=\"IVF_FLAT\",\n",
    "    object_reader=reader,\n",
    "    embedding=embedding,\n",
    ")\n",
    "index.update_index(\n",
    "    workers=2,\n",
    "    max_tasks_per_stage=2,\n",
    "    partition_tile_size=5000,\n",
    ")"
   ]
  },
  {
   "cell_type": "markdown",
   "metadata": {},
   "source": [
    "## Query"
   ]
  },
  {
   "cell_type": "code",
   "execution_count": 4,
   "metadata": {},
   "outputs": [
    {
     "name": "stdout",
     "output_type": "stream",
     "text": [
      "url: https://simple.wikipedia.org/wiki/Solar%20System\n",
      "url: https://simple.wikipedia.org/wiki/Planet\n",
      "url: https://simple.wikipedia.org/wiki/Jupiter\n",
      "url: https://simple.wikipedia.org/wiki/Earth\n",
      "url: https://simple.wikipedia.org/wiki/Neptune\n",
      "url: https://simple.wikipedia.org/wiki/Uranus\n",
      "url: https://simple.wikipedia.org/wiki/Saturn\n",
      "url: https://simple.wikipedia.org/wiki/Asteroid%20belt\n",
      "url: https://simple.wikipedia.org/wiki/Mars\n",
      "url: https://simple.wikipedia.org/wiki/Pluto%20%28disambiguation%29\n",
      "url: https://simple.wikipedia.org/wiki/Venus\n",
      "url: https://simple.wikipedia.org/wiki/Mercury%20%28planet%29\n",
      "url: https://simple.wikipedia.org/wiki/Neptune%20%28disambiguation%29\n",
      "url: https://simple.wikipedia.org/wiki/Uranus%20%28disambiguation%29\n",
      "url: https://simple.wikipedia.org/wiki/Venus%20%28disambiguation%29\n",
      "url: https://simple.wikipedia.org/wiki/Star\n",
      "url: https://simple.wikipedia.org/wiki/Astronomy\n",
      "url: https://simple.wikipedia.org/wiki/Asteroid\n",
      "url: https://simple.wikipedia.org/wiki/Outer%20space\n",
      "url: https://simple.wikipedia.org/wiki/Jupiter%20%28disambiguation%29\n"
     ]
    }
   ],
   "source": [
    "def display_results(results):\n",
    "    urls = results[\"url\"][0]\n",
    "    texts = results[\"text\"][0]\n",
    "    i = 0\n",
    "    for text in texts:\n",
    "        print(f\"url: {urls[i]}\")\n",
    "        i += 1\n",
    "\n",
    "distances, results = index.query(\n",
    "                            {\"text\": [\"planet of the solar system\"]}, \n",
    "                            k=20, \n",
    "                            nprobe=10,\n",
    "                            return_metadata=False,\n",
    "                        )\n",
    "display_results(results)"
   ]
  }
 ],
 "metadata": {
  "kernelspec": {
   "display_name": "tiledb_vs_10_arm",
   "language": "python",
   "name": "python3"
  },
  "language_info": {
   "codemirror_mode": {
    "name": "ipython",
    "version": 3
   },
   "file_extension": ".py",
   "mimetype": "text/x-python",
   "name": "python",
   "nbconvert_exporter": "python",
   "pygments_lexer": "ipython3",
   "version": "3.9.18"
  }
 },
 "nbformat": 4,
 "nbformat_minor": 2
}
