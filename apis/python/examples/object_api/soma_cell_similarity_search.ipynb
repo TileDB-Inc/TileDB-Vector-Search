{
 "cells": [
  {
   "cell_type": "markdown",
   "metadata": {},
   "source": [
    "# Cell similarity example "
   ]
  },
  {
   "cell_type": "code",
   "execution_count": 7,
   "metadata": {},
   "outputs": [],
   "source": [
    "import numpy as np\n",
    "import random\n",
    "import tiledb\n",
    "import tiledbsoma\n",
    "\n",
    "from tiledb.vector_search.object_api import object_index\n",
    "from tiledb.vector_search.object_readers import SomaAnnDataReader\n",
    "from tiledb.vector_search.embeddings import SomaSCVIEmbedding\n",
    "\n",
    "index_uri = \"/tmp/soma_demo/index\"\n",
    "soma_uri = \"tiledb://TileDB-Inc/soma-exp-tabula-sapiens-immune\"\n",
    "model_uri=\"https://cellxgene-contrib-public.s3.us-west-2.amazonaws.com/models/scvi/2024-02-12/homo_sapiens/model.pt\"\n",
    "\n",
    "config = tiledb.cloud.Config().dict()\n"
   ]
  },
  {
   "cell_type": "markdown",
   "metadata": {},
   "source": [
    "# Create vector search index"
   ]
  },
  {
   "cell_type": "code",
   "execution_count": 2,
   "metadata": {},
   "outputs": [
    {
     "name": "stderr",
     "output_type": "stream",
     "text": [
      "Global seed set to 0\n"
     ]
    },
    {
     "name": "stdout",
     "output_type": "stream",
     "text": [
      "\u001b[34mINFO    \u001b[0m Found \u001b[1;36m98.725\u001b[0m% reference vars in query data.                                                               \n",
      "\u001b[34mINFO    \u001b[0m Found \u001b[1;36m98.725\u001b[0m% reference vars in query data.                                                               \n",
      "\u001b[34mINFO    \u001b[0m Found \u001b[1;36m98.725\u001b[0m% reference vars in query data.                                                               \n",
      "\u001b[34mINFO    \u001b[0m Found \u001b[1;36m98.725\u001b[0m% reference vars in query data.                                                               \n",
      "\u001b[34mINFO    \u001b[0m Found \u001b[1;36m98.725\u001b[0m% reference vars in query data.                                                               \n",
      "\u001b[34mINFO    \u001b[0m Found \u001b[1;36m98.725\u001b[0m% reference vars in query data.                                                               \n"
     ]
    }
   ],
   "source": [
    "# Clean up the index if it already exists\n",
    "vfs = tiledb.VFS(config=config)\n",
    "if vfs.is_dir(index_uri):\n",
    "    vfs.remove_dir(index_uri)\n",
    "\n",
    "# Index the tabula sapiens immune dataset\n",
    "soma_reader = SomaAnnDataReader(\n",
    "    uri=soma_uri,\n",
    "    measurement_name=\"RNA\",\n",
    "    X_name=\"data\",\n",
    "    cells_per_partition=50000,\n",
    ")\n",
    "\n",
    "# Embed using scvi human model\n",
    "cell_embedding = SomaSCVIEmbedding(\n",
    "    model_uri=model_uri,\n",
    "    gene_col=\"gene_id\",\n",
    "    embedding_dimensions=50,\n",
    ")\n",
    "\n",
    "# Create the index\n",
    "index = object_index.create(\n",
    "    uri=index_uri,\n",
    "    index_type=\"IVF_FLAT\",\n",
    "    object_reader=soma_reader,\n",
    "    embedding=cell_embedding,\n",
    "    config=config,\n",
    ")\n",
    "\n",
    "# Embed cells and add them to the index \n",
    "index.update_index(\n",
    "    max_tasks_per_stage=1,\n",
    "    workers=1,\n",
    "    config=config,\n",
    ")"
   ]
  },
  {
   "cell_type": "markdown",
   "metadata": {},
   "source": [
    "# Query\n",
    "\n",
    "Open the vector index"
   ]
  },
  {
   "cell_type": "code",
   "execution_count": 8,
   "metadata": {},
   "outputs": [],
   "source": [
    "index = object_index.ObjectIndex(uri=index_uri, config=config)"
   ]
  },
  {
   "cell_type": "markdown",
   "metadata": {},
   "source": [
    "Pick a random cell from the dataset"
   ]
  },
  {
   "cell_type": "code",
   "execution_count": 22,
   "metadata": {},
   "outputs": [
    {
     "data": {
      "text/html": [
       "<div>\n",
       "<style scoped>\n",
       "    .dataframe tbody tr th:only-of-type {\n",
       "        vertical-align: middle;\n",
       "    }\n",
       "\n",
       "    .dataframe tbody tr th {\n",
       "        vertical-align: top;\n",
       "    }\n",
       "\n",
       "    .dataframe thead th {\n",
       "        text-align: right;\n",
       "    }\n",
       "</style>\n",
       "<table border=\"1\" class=\"dataframe\">\n",
       "  <thead>\n",
       "    <tr style=\"text-align: right;\">\n",
       "      <th></th>\n",
       "      <th>soma_joinid</th>\n",
       "      <th>cell_ontology_class</th>\n",
       "      <th>tissue</th>\n",
       "      <th>disease</th>\n",
       "    </tr>\n",
       "  </thead>\n",
       "  <tbody>\n",
       "    <tr>\n",
       "      <th>0</th>\n",
       "      <td>130187</td>\n",
       "      <td>cd4-positive, alpha-beta t cell</td>\n",
       "      <td>small intestine</td>\n",
       "      <td>normal</td>\n",
       "    </tr>\n",
       "  </tbody>\n",
       "</table>\n",
       "</div>"
      ],
      "text/plain": [
       "   soma_joinid              cell_ontology_class           tissue disease\n",
       "0       130187  cd4-positive, alpha-beta t cell  small intestine  normal"
      ]
     },
     "execution_count": 22,
     "metadata": {},
     "output_type": "execute_result"
    }
   ],
   "source": [
    "import pandas as pd\n",
    "def tiledb_to_pandas(obs):\n",
    "    new_obs = {}\n",
    "    for column_name in column_names:\n",
    "        new_obs[column_name] = obs[column_name][0]\n",
    "    return pd.DataFrame(data=new_obs)\n",
    "\n",
    "rid = random.randint(0,250000)\n",
    "\n",
    "with tiledb.scope_ctx(ctx_or_config=config):\n",
    "    query_cell=index.object_reader.read_objects_by_external_ids(np.array([rid]))\n",
    "column_names=[\"soma_joinid\", \"cell_ontology_class\", \"tissue\", \"disease\"]\n",
    "query_cell['anndata'].obs[column_names]"
   ]
  },
  {
   "cell_type": "markdown",
   "metadata": {},
   "source": [
    "## Similarity query"
   ]
  },
  {
   "cell_type": "code",
   "execution_count": 23,
   "metadata": {},
   "outputs": [
    {
     "name": "stdout",
     "output_type": "stream",
     "text": [
      "\u001b[34mINFO    \u001b[0m Found \u001b[1;36m98.725\u001b[0m% reference vars in query data.                                                               \n"
     ]
    },
    {
     "data": {
      "text/html": [
       "<div>\n",
       "<style scoped>\n",
       "    .dataframe tbody tr th:only-of-type {\n",
       "        vertical-align: middle;\n",
       "    }\n",
       "\n",
       "    .dataframe tbody tr th {\n",
       "        vertical-align: top;\n",
       "    }\n",
       "\n",
       "    .dataframe thead th {\n",
       "        text-align: right;\n",
       "    }\n",
       "</style>\n",
       "<table border=\"1\" class=\"dataframe\">\n",
       "  <thead>\n",
       "    <tr style=\"text-align: right;\">\n",
       "      <th></th>\n",
       "      <th>soma_joinid</th>\n",
       "      <th>cell_ontology_class</th>\n",
       "      <th>tissue</th>\n",
       "      <th>disease</th>\n",
       "    </tr>\n",
       "  </thead>\n",
       "  <tbody>\n",
       "    <tr>\n",
       "      <th>0</th>\n",
       "      <td>130187</td>\n",
       "      <td>cd4-positive, alpha-beta t cell</td>\n",
       "      <td>small intestine</td>\n",
       "      <td>normal</td>\n",
       "    </tr>\n",
       "    <tr>\n",
       "      <th>1</th>\n",
       "      <td>195340</td>\n",
       "      <td>t cell</td>\n",
       "      <td>bladder organ</td>\n",
       "      <td>normal</td>\n",
       "    </tr>\n",
       "    <tr>\n",
       "      <th>2</th>\n",
       "      <td>133937</td>\n",
       "      <td>cd4-positive, alpha-beta t cell</td>\n",
       "      <td>small intestine</td>\n",
       "      <td>normal</td>\n",
       "    </tr>\n",
       "    <tr>\n",
       "      <th>3</th>\n",
       "      <td>130471</td>\n",
       "      <td>cd4-positive, alpha-beta t cell</td>\n",
       "      <td>small intestine</td>\n",
       "      <td>normal</td>\n",
       "    </tr>\n",
       "    <tr>\n",
       "      <th>4</th>\n",
       "      <td>152943</td>\n",
       "      <td>cd4-positive, alpha-beta t cell</td>\n",
       "      <td>bone marrow</td>\n",
       "      <td>normal</td>\n",
       "    </tr>\n",
       "    <tr>\n",
       "      <th>5</th>\n",
       "      <td>178448</td>\n",
       "      <td>cd4-positive, alpha-beta memory t cell</td>\n",
       "      <td>spleen</td>\n",
       "      <td>normal</td>\n",
       "    </tr>\n",
       "    <tr>\n",
       "      <th>6</th>\n",
       "      <td>102741</td>\n",
       "      <td>cd8-positive, alpha-beta memory t cell</td>\n",
       "      <td>spleen</td>\n",
       "      <td>normal</td>\n",
       "    </tr>\n",
       "    <tr>\n",
       "      <th>7</th>\n",
       "      <td>69848</td>\n",
       "      <td>t cell</td>\n",
       "      <td>skin of chest</td>\n",
       "      <td>normal</td>\n",
       "    </tr>\n",
       "    <tr>\n",
       "      <th>8</th>\n",
       "      <td>154410</td>\n",
       "      <td>t cell</td>\n",
       "      <td>adipose tissue</td>\n",
       "      <td>normal</td>\n",
       "    </tr>\n",
       "    <tr>\n",
       "      <th>9</th>\n",
       "      <td>134157</td>\n",
       "      <td>cd4-positive, alpha-beta t cell</td>\n",
       "      <td>small intestine</td>\n",
       "      <td>normal</td>\n",
       "    </tr>\n",
       "  </tbody>\n",
       "</table>\n",
       "</div>"
      ],
      "text/plain": [
       "   soma_joinid                     cell_ontology_class           tissue  \\\n",
       "0       130187         cd4-positive, alpha-beta t cell  small intestine   \n",
       "1       195340                                  t cell    bladder organ   \n",
       "2       133937         cd4-positive, alpha-beta t cell  small intestine   \n",
       "3       130471         cd4-positive, alpha-beta t cell  small intestine   \n",
       "4       152943         cd4-positive, alpha-beta t cell      bone marrow   \n",
       "5       178448  cd4-positive, alpha-beta memory t cell           spleen   \n",
       "6       102741  cd8-positive, alpha-beta memory t cell           spleen   \n",
       "7        69848                                  t cell    skin of chest   \n",
       "8       154410                                  t cell   adipose tissue   \n",
       "9       134157         cd4-positive, alpha-beta t cell  small intestine   \n",
       "\n",
       "  disease  \n",
       "0  normal  \n",
       "1  normal  \n",
       "2  normal  \n",
       "3  normal  \n",
       "4  normal  \n",
       "5  normal  \n",
       "6  normal  \n",
       "7  normal  \n",
       "8  normal  \n",
       "9  normal  "
      ]
     },
     "execution_count": 23,
     "metadata": {},
     "output_type": "execute_result"
    }
   ],
   "source": [
    "distances, cells, obs = index.query(\n",
    "    query_cell, \n",
    "    k=10, \n",
    "    nprobe=2, \n",
    "    return_objects=False\n",
    ")\n",
    "tiledb_to_pandas(obs)\n"
   ]
  },
  {
   "cell_type": "markdown",
   "metadata": {},
   "source": [
    "## Similarity query with structured restrict\n",
    "\n",
    "Find similar cells that also pass a structured filter"
   ]
  },
  {
   "cell_type": "code",
   "execution_count": 24,
   "metadata": {},
   "outputs": [],
   "source": [
    "with tiledb.scope_ctx(ctx_or_config=config):\n",
    "    query_cell=index.object_reader.read_objects_by_external_ids(np.array([rid]))"
   ]
  },
  {
   "cell_type": "code",
   "execution_count": 25,
   "metadata": {},
   "outputs": [
    {
     "name": "stdout",
     "output_type": "stream",
     "text": [
      "\u001b[34mINFO    \u001b[0m Found \u001b[1;36m98.725\u001b[0m% reference vars in query data.                                                               \n"
     ]
    },
    {
     "data": {
      "text/html": [
       "<div>\n",
       "<style scoped>\n",
       "    .dataframe tbody tr th:only-of-type {\n",
       "        vertical-align: middle;\n",
       "    }\n",
       "\n",
       "    .dataframe tbody tr th {\n",
       "        vertical-align: top;\n",
       "    }\n",
       "\n",
       "    .dataframe thead th {\n",
       "        text-align: right;\n",
       "    }\n",
       "</style>\n",
       "<table border=\"1\" class=\"dataframe\">\n",
       "  <thead>\n",
       "    <tr style=\"text-align: right;\">\n",
       "      <th></th>\n",
       "      <th>soma_joinid</th>\n",
       "      <th>cell_ontology_class</th>\n",
       "      <th>tissue</th>\n",
       "      <th>disease</th>\n",
       "    </tr>\n",
       "  </thead>\n",
       "  <tbody>\n",
       "    <tr>\n",
       "      <th>0</th>\n",
       "      <td>130187</td>\n",
       "      <td>cd4-positive, alpha-beta t cell</td>\n",
       "      <td>small intestine</td>\n",
       "      <td>normal</td>\n",
       "    </tr>\n",
       "    <tr>\n",
       "      <th>1</th>\n",
       "      <td>133937</td>\n",
       "      <td>cd4-positive, alpha-beta t cell</td>\n",
       "      <td>small intestine</td>\n",
       "      <td>normal</td>\n",
       "    </tr>\n",
       "    <tr>\n",
       "      <th>2</th>\n",
       "      <td>130471</td>\n",
       "      <td>cd4-positive, alpha-beta t cell</td>\n",
       "      <td>small intestine</td>\n",
       "      <td>normal</td>\n",
       "    </tr>\n",
       "    <tr>\n",
       "      <th>3</th>\n",
       "      <td>134157</td>\n",
       "      <td>cd4-positive, alpha-beta t cell</td>\n",
       "      <td>small intestine</td>\n",
       "      <td>normal</td>\n",
       "    </tr>\n",
       "    <tr>\n",
       "      <th>4</th>\n",
       "      <td>129881</td>\n",
       "      <td>cd4-positive, alpha-beta t cell</td>\n",
       "      <td>small intestine</td>\n",
       "      <td>normal</td>\n",
       "    </tr>\n",
       "    <tr>\n",
       "      <th>5</th>\n",
       "      <td>133286</td>\n",
       "      <td>cd8-positive, alpha-beta t cell</td>\n",
       "      <td>small intestine</td>\n",
       "      <td>normal</td>\n",
       "    </tr>\n",
       "    <tr>\n",
       "      <th>6</th>\n",
       "      <td>135707</td>\n",
       "      <td>cd4-positive, alpha-beta t cell</td>\n",
       "      <td>small intestine</td>\n",
       "      <td>normal</td>\n",
       "    </tr>\n",
       "    <tr>\n",
       "      <th>7</th>\n",
       "      <td>133879</td>\n",
       "      <td>cd4-positive, alpha-beta t cell</td>\n",
       "      <td>small intestine</td>\n",
       "      <td>normal</td>\n",
       "    </tr>\n",
       "    <tr>\n",
       "      <th>8</th>\n",
       "      <td>135747</td>\n",
       "      <td>cd4-positive, alpha-beta t cell</td>\n",
       "      <td>small intestine</td>\n",
       "      <td>normal</td>\n",
       "    </tr>\n",
       "    <tr>\n",
       "      <th>9</th>\n",
       "      <td>128924</td>\n",
       "      <td>cd4-positive, alpha-beta t cell</td>\n",
       "      <td>small intestine</td>\n",
       "      <td>normal</td>\n",
       "    </tr>\n",
       "  </tbody>\n",
       "</table>\n",
       "</div>"
      ],
      "text/plain": [
       "   soma_joinid              cell_ontology_class           tissue disease\n",
       "0       130187  cd4-positive, alpha-beta t cell  small intestine  normal\n",
       "1       133937  cd4-positive, alpha-beta t cell  small intestine  normal\n",
       "2       130471  cd4-positive, alpha-beta t cell  small intestine  normal\n",
       "3       134157  cd4-positive, alpha-beta t cell  small intestine  normal\n",
       "4       129881  cd4-positive, alpha-beta t cell  small intestine  normal\n",
       "5       133286  cd8-positive, alpha-beta t cell  small intestine  normal\n",
       "6       135707  cd4-positive, alpha-beta t cell  small intestine  normal\n",
       "7       133879  cd4-positive, alpha-beta t cell  small intestine  normal\n",
       "8       135747  cd4-positive, alpha-beta t cell  small intestine  normal\n",
       "9       128924  cd4-positive, alpha-beta t cell  small intestine  normal"
      ]
     },
     "execution_count": 25,
     "metadata": {},
     "output_type": "execute_result"
    }
   ],
   "source": [
    "# Only retrieve cells from the same tissue.\n",
    "query_tissue=query_cell['anndata'].obs[\"tissue\"].values[0]\n",
    "def tissue_filter_fn(row):\n",
    "    return row[\"tissue\"] == query_tissue\n",
    "\n",
    "\n",
    "distances, cells, obs = index.query(\n",
    "    query_cell, \n",
    "    metadata_df_filter_fn=tissue_filter_fn, \n",
    "    k=10, \n",
    "    nprobe=2, \n",
    "    return_objects=False\n",
    ")\n",
    "tiledb_to_pandas(obs)"
   ]
  }
 ],
 "metadata": {
  "kernelspec": {
   "display_name": "tiledb_vs_6_arm",
   "language": "python",
   "name": "python3"
  },
  "language_info": {
   "codemirror_mode": {
    "name": "ipython",
    "version": 3
   },
   "file_extension": ".py",
   "mimetype": "text/x-python",
   "name": "python",
   "nbconvert_exporter": "python",
   "pygments_lexer": "ipython3",
   "version": "3.9.18"
  }
 },
 "nbformat": 4,
 "nbformat_minor": 2
}
