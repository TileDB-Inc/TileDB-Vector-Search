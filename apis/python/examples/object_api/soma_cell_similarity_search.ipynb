{
 "cells": [
  {
   "cell_type": "markdown",
   "metadata": {},
   "source": [
    "# Cell similarity example "
   ]
  },
  {
   "cell_type": "code",
   "execution_count": 1,
   "metadata": {},
   "outputs": [],
   "source": [
    "import numpy as np\n",
    "import random\n",
    "import tiledb\n",
    "import tiledbsoma\n",
    "\n",
    "from tiledb.vector_search.object_api import object_index\n",
    "from tiledb.vector_search.object_readers import SomaRNAXRowReader\n",
    "from tiledb.vector_search.embeddings import SomaGenePTwEmbedding\n",
    "\n",
    "dataset = \"soma\"\n",
    "base_uri = f\"/tmp/{dataset}_demo\"\n",
    "soma_uri = f\"{base_uri}/tabula-sapiens-immune\"\n",
    "gene_embeddings_uri=\"/tmp/soma_demo/GPT_3_5_gene_embeddings\"\n",
    "index_uri = f\"{base_uri}/index\"\n",
    "config = {}"
   ]
  },
  {
   "cell_type": "markdown",
   "metadata": {},
   "source": [
    "# Create vector search index"
   ]
  },
  {
   "cell_type": "code",
   "execution_count": 2,
   "metadata": {},
   "outputs": [],
   "source": [
    "vfs = tiledb.VFS(config=config)\n",
    "if vfs.is_dir(index_uri):\n",
    "    vfs.remove_dir(index_uri)\n",
    "vfs.create_dir(index_uri)\n",
    "\n",
    "\n",
    "soma_reader = SomaRNAXRowReader(uri=soma_uri, cells_per_partition=10000, config=config)\n",
    "soma_embedder = SomaGenePTwEmbedding(gene_embeddings_uri=gene_embeddings_uri,\n",
    "                                        soma_uri=soma_uri,\n",
    "                                        config=config)\n",
    "\n",
    "index = object_index.create(\n",
    "    uri=index_uri,\n",
    "    index_type=\"IVF_FLAT\",\n",
    "    object_reader=soma_reader,\n",
    "    embedding=soma_embedder,\n",
    "    config=config,\n",
    ")\n",
    "index.update_index(\n",
    "    max_tasks_per_stage=5,\n",
    "    workers=5,\n",
    ")"
   ]
  },
  {
   "cell_type": "markdown",
   "metadata": {},
   "source": [
    "# Query\n",
    "\n",
    "Pick a random cell from the dataset"
   ]
  },
  {
   "cell_type": "markdown",
   "metadata": {},
   "source": [
    "#"
   ]
  },
  {
   "cell_type": "code",
   "execution_count": 3,
   "metadata": {},
   "outputs": [
    {
     "data": {
      "text/html": [
       "<div>\n",
       "<style scoped>\n",
       "    .dataframe tbody tr th:only-of-type {\n",
       "        vertical-align: middle;\n",
       "    }\n",
       "\n",
       "    .dataframe tbody tr th {\n",
       "        vertical-align: top;\n",
       "    }\n",
       "\n",
       "    .dataframe thead th {\n",
       "        text-align: right;\n",
       "    }\n",
       "</style>\n",
       "<table border=\"1\" class=\"dataframe\">\n",
       "  <thead>\n",
       "    <tr style=\"text-align: right;\">\n",
       "      <th></th>\n",
       "      <th>soma_joinid</th>\n",
       "      <th>cell_type</th>\n",
       "      <th>tissue</th>\n",
       "    </tr>\n",
       "  </thead>\n",
       "  <tbody>\n",
       "    <tr>\n",
       "      <th>0</th>\n",
       "      <td>613</td>\n",
       "      <td>monocyte</td>\n",
       "      <td>liver</td>\n",
       "    </tr>\n",
       "  </tbody>\n",
       "</table>\n",
       "</div>"
      ],
      "text/plain": [
       "   soma_joinid cell_type tissue\n",
       "0          613  monocyte  liver"
      ]
     },
     "execution_count": 3,
     "metadata": {},
     "output_type": "execute_result"
    }
   ],
   "source": [
    "import pandas as pd\n",
    "def tiledb_to_pandas(obs):\n",
    "    new_obs = {}\n",
    "    for column_name in column_names:\n",
    "        new_obs[column_name] = obs[column_name][0]\n",
    "    return pd.DataFrame(data=new_obs)\n",
    "\n",
    "rid = random.randint(0,3600)\n",
    "query_cell = soma_reader.read_objects_by_external_ids(np.array([rid]))\n",
    "\n",
    "context = tiledbsoma.SOMATileDBContext(tiledb_ctx=tiledb.Ctx(config))\n",
    "exp = tiledbsoma.Experiment.open(soma_uri, \"r\", context=context)\n",
    "column_names=[\"soma_joinid\", \"cell_type\", \"tissue\"]\n",
    "query_metadata = exp.obs.read(coords=[rid], column_names=column_names).concat().to_pandas()\n",
    "query_cell_tissue=query_metadata[\"tissue\"].values[0]\n",
    "metadata_array_cond=f\"tissue == '{query_cell_tissue}'\"\n",
    "query_metadata"
   ]
  },
  {
   "cell_type": "markdown",
   "metadata": {},
   "source": [
    "## Similarity query"
   ]
  },
  {
   "cell_type": "code",
   "execution_count": 4,
   "metadata": {},
   "outputs": [
    {
     "data": {
      "text/html": [
       "<div>\n",
       "<style scoped>\n",
       "    .dataframe tbody tr th:only-of-type {\n",
       "        vertical-align: middle;\n",
       "    }\n",
       "\n",
       "    .dataframe tbody tr th {\n",
       "        vertical-align: top;\n",
       "    }\n",
       "\n",
       "    .dataframe thead th {\n",
       "        text-align: right;\n",
       "    }\n",
       "</style>\n",
       "<table border=\"1\" class=\"dataframe\">\n",
       "  <thead>\n",
       "    <tr style=\"text-align: right;\">\n",
       "      <th></th>\n",
       "      <th>soma_joinid</th>\n",
       "      <th>cell_type</th>\n",
       "      <th>tissue</th>\n",
       "    </tr>\n",
       "  </thead>\n",
       "  <tbody>\n",
       "    <tr>\n",
       "      <th>0</th>\n",
       "      <td>613</td>\n",
       "      <td>monocyte</td>\n",
       "      <td>liver</td>\n",
       "    </tr>\n",
       "    <tr>\n",
       "      <th>1</th>\n",
       "      <td>1488</td>\n",
       "      <td>monocyte</td>\n",
       "      <td>liver</td>\n",
       "    </tr>\n",
       "    <tr>\n",
       "      <th>2</th>\n",
       "      <td>1161</td>\n",
       "      <td>macrophage</td>\n",
       "      <td>liver</td>\n",
       "    </tr>\n",
       "    <tr>\n",
       "      <th>3</th>\n",
       "      <td>2159</td>\n",
       "      <td>monocyte</td>\n",
       "      <td>liver</td>\n",
       "    </tr>\n",
       "    <tr>\n",
       "      <th>4</th>\n",
       "      <td>244668</td>\n",
       "      <td>macrophage</td>\n",
       "      <td>rectus abdominis muscle</td>\n",
       "    </tr>\n",
       "    <tr>\n",
       "      <th>5</th>\n",
       "      <td>117618</td>\n",
       "      <td>macrophage</td>\n",
       "      <td>bladder organ</td>\n",
       "    </tr>\n",
       "    <tr>\n",
       "      <th>6</th>\n",
       "      <td>186324</td>\n",
       "      <td>macrophage</td>\n",
       "      <td>bladder organ</td>\n",
       "    </tr>\n",
       "    <tr>\n",
       "      <th>7</th>\n",
       "      <td>186033</td>\n",
       "      <td>macrophage</td>\n",
       "      <td>bladder organ</td>\n",
       "    </tr>\n",
       "    <tr>\n",
       "      <th>8</th>\n",
       "      <td>195183</td>\n",
       "      <td>macrophage</td>\n",
       "      <td>bladder organ</td>\n",
       "    </tr>\n",
       "    <tr>\n",
       "      <th>9</th>\n",
       "      <td>970</td>\n",
       "      <td>macrophage</td>\n",
       "      <td>liver</td>\n",
       "    </tr>\n",
       "  </tbody>\n",
       "</table>\n",
       "</div>"
      ],
      "text/plain": [
       "   soma_joinid   cell_type                   tissue\n",
       "0          613    monocyte                    liver\n",
       "1         1488    monocyte                    liver\n",
       "2         1161  macrophage                    liver\n",
       "3         2159    monocyte                    liver\n",
       "4       244668  macrophage  rectus abdominis muscle\n",
       "5       117618  macrophage            bladder organ\n",
       "6       186324  macrophage            bladder organ\n",
       "7       186033  macrophage            bladder organ\n",
       "8       195183  macrophage            bladder organ\n",
       "9          970  macrophage                    liver"
      ]
     },
     "execution_count": 4,
     "metadata": {},
     "output_type": "execute_result"
    }
   ],
   "source": [
    "distances, cells, obs = index.query(query_cell, k=10, nprobe=2, return_objects=False)\n",
    "tiledb_to_pandas(obs)\n"
   ]
  },
  {
   "cell_type": "markdown",
   "metadata": {},
   "source": [
    "## Similarity query with structured restrict\n",
    "\n",
    "Find similar cells from the same tissue"
   ]
  },
  {
   "cell_type": "code",
   "execution_count": 5,
   "metadata": {},
   "outputs": [
    {
     "data": {
      "text/html": [
       "<div>\n",
       "<style scoped>\n",
       "    .dataframe tbody tr th:only-of-type {\n",
       "        vertical-align: middle;\n",
       "    }\n",
       "\n",
       "    .dataframe tbody tr th {\n",
       "        vertical-align: top;\n",
       "    }\n",
       "\n",
       "    .dataframe thead th {\n",
       "        text-align: right;\n",
       "    }\n",
       "</style>\n",
       "<table border=\"1\" class=\"dataframe\">\n",
       "  <thead>\n",
       "    <tr style=\"text-align: right;\">\n",
       "      <th></th>\n",
       "      <th>soma_joinid</th>\n",
       "      <th>cell_type</th>\n",
       "      <th>tissue</th>\n",
       "    </tr>\n",
       "  </thead>\n",
       "  <tbody>\n",
       "    <tr>\n",
       "      <th>0</th>\n",
       "      <td>613</td>\n",
       "      <td>monocyte</td>\n",
       "      <td>liver</td>\n",
       "    </tr>\n",
       "    <tr>\n",
       "      <th>1</th>\n",
       "      <td>1488</td>\n",
       "      <td>monocyte</td>\n",
       "      <td>liver</td>\n",
       "    </tr>\n",
       "    <tr>\n",
       "      <th>2</th>\n",
       "      <td>1161</td>\n",
       "      <td>macrophage</td>\n",
       "      <td>liver</td>\n",
       "    </tr>\n",
       "    <tr>\n",
       "      <th>3</th>\n",
       "      <td>2159</td>\n",
       "      <td>monocyte</td>\n",
       "      <td>liver</td>\n",
       "    </tr>\n",
       "    <tr>\n",
       "      <th>4</th>\n",
       "      <td>970</td>\n",
       "      <td>macrophage</td>\n",
       "      <td>liver</td>\n",
       "    </tr>\n",
       "    <tr>\n",
       "      <th>5</th>\n",
       "      <td>804</td>\n",
       "      <td>macrophage</td>\n",
       "      <td>liver</td>\n",
       "    </tr>\n",
       "    <tr>\n",
       "      <th>6</th>\n",
       "      <td>119</td>\n",
       "      <td>monocyte</td>\n",
       "      <td>liver</td>\n",
       "    </tr>\n",
       "    <tr>\n",
       "      <th>7</th>\n",
       "      <td>406</td>\n",
       "      <td>monocyte</td>\n",
       "      <td>liver</td>\n",
       "    </tr>\n",
       "    <tr>\n",
       "      <th>8</th>\n",
       "      <td>865</td>\n",
       "      <td>monocyte</td>\n",
       "      <td>liver</td>\n",
       "    </tr>\n",
       "    <tr>\n",
       "      <th>9</th>\n",
       "      <td>210</td>\n",
       "      <td>macrophage</td>\n",
       "      <td>liver</td>\n",
       "    </tr>\n",
       "  </tbody>\n",
       "</table>\n",
       "</div>"
      ],
      "text/plain": [
       "   soma_joinid   cell_type tissue\n",
       "0          613    monocyte  liver\n",
       "1         1488    monocyte  liver\n",
       "2         1161  macrophage  liver\n",
       "3         2159    monocyte  liver\n",
       "4          970  macrophage  liver\n",
       "5          804  macrophage  liver\n",
       "6          119    monocyte  liver\n",
       "7          406    monocyte  liver\n",
       "8          865    monocyte  liver\n",
       "9          210  macrophage  liver"
      ]
     },
     "execution_count": 5,
     "metadata": {},
     "output_type": "execute_result"
    }
   ],
   "source": [
    "distances, cells, obs = index.query(query_cell, metadata_array_cond=metadata_array_cond, k=10, nprobe=2, return_objects=False)\n",
    "tiledb_to_pandas(obs)"
   ]
  }
 ],
 "metadata": {
  "kernelspec": {
   "display_name": "tiledb_vs_6_arm",
   "language": "python",
   "name": "python3"
  },
  "language_info": {
   "codemirror_mode": {
    "name": "ipython",
    "version": 3
   },
   "file_extension": ".py",
   "mimetype": "text/x-python",
   "name": "python",
   "nbconvert_exporter": "python",
   "pygments_lexer": "ipython3",
   "version": "3.9.18"
  }
 },
 "nbformat": 4,
 "nbformat_minor": 2
}
